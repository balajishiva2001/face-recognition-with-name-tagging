{
 "cells": [
  {
   "cell_type": "code",
   "execution_count": 1,
   "id": "253212f3",
   "metadata": {},
   "outputs": [],
   "source": [
    "# importing of all the libraries\n",
    "import cv2\n",
    "face_classifier =cv2.CascadeClassifier('Haarcascades/haarcascade_frontalface_default.xml')\n",
    "eye_classifier =cv2.CascadeClassifier('Haarcascades/haarcascade_eye.xml')"
   ]
  },
  {
   "cell_type": "code",
   "execution_count": null,
   "id": "2c5ace7c",
   "metadata": {},
   "outputs": [
    {
     "name": "stdout",
     "output_type": "stream",
     "text": [
      "C:/Users/user/Desktop/Untitled Folder/Untitled Folder/images/\n",
      "C:/Users/user/Desktop/Untitled Folder/Untitled Folder/images/balu_1.jpg\n",
      "C:/Users/user/Desktop/Untitled Folder/Untitled Folder/images/balu_10.jpg\n",
      "C:/Users/user/Desktop/Untitled Folder/Untitled Folder/images/balu_2.jpg\n",
      "C:/Users/user/Desktop/Untitled Folder/Untitled Folder/images/balu_3.jpg\n",
      "C:/Users/user/Desktop/Untitled Folder/Untitled Folder/images/balu_4.jpg\n",
      "C:/Users/user/Desktop/Untitled Folder/Untitled Folder/images/balu_5.jpg\n",
      "C:/Users/user/Desktop/Untitled Folder/Untitled Folder/images/balu_6.jpg\n",
      "C:/Users/user/Desktop/Untitled Folder/Untitled Folder/images/balu_7.jpg\n",
      "C:/Users/user/Desktop/Untitled Folder/Untitled Folder/images/balu_8.jpg\n",
      "C:/Users/user/Desktop/Untitled Folder/Untitled Folder/images/balu_9.jpg\n",
      "C:/Users/user/Desktop/Untitled Folder/Untitled Folder/images/bezos_1.jpg\n",
      "C:/Users/user/Desktop/Untitled Folder/Untitled Folder/images/bezos_10.jpg\n",
      "C:/Users/user/Desktop/Untitled Folder/Untitled Folder/images/bezos_2.jpg\n",
      "C:/Users/user/Desktop/Untitled Folder/Untitled Folder/images/bezos_3.jpg\n",
      "C:/Users/user/Desktop/Untitled Folder/Untitled Folder/images/bezos_4.jpg\n",
      "C:/Users/user/Desktop/Untitled Folder/Untitled Folder/images/bezos_5.jpg\n",
      "C:/Users/user/Desktop/Untitled Folder/Untitled Folder/images/bezos_6.jpg\n",
      "C:/Users/user/Desktop/Untitled Folder/Untitled Folder/images/bezos_7.jpg\n",
      "C:/Users/user/Desktop/Untitled Folder/Untitled Folder/images/bezos_8.jpg\n",
      "C:/Users/user/Desktop/Untitled Folder/Untitled Folder/images/bezos_9.jpg\n",
      "C:/Users/user/Desktop/Untitled Folder/Untitled Folder/images/bvjvghgh.jpg\n",
      "C:/Users/user/Desktop/Untitled Folder/Untitled Folder/images/fhrdtrtddtd.jpg\n",
      "C:/Users/user/Desktop/Untitled Folder/Untitled Folder/images/mhdcjhdgcgdjhg.jpg\n",
      "C:/Users/user/Desktop/Untitled Folder/Untitled Folder/images/musk_1.jpg\n",
      "C:/Users/user/Desktop/Untitled Folder/Untitled Folder/images/musk_10.jpg\n",
      "C:/Users/user/Desktop/Untitled Folder/Untitled Folder/images/musk_2.jpg\n",
      "C:/Users/user/Desktop/Untitled Folder/Untitled Folder/images/musk_3.jpg\n",
      "C:/Users/user/Desktop/Untitled Folder/Untitled Folder/images/musk_4.jpg\n",
      "C:/Users/user/Desktop/Untitled Folder/Untitled Folder/images/musk_5.jpg\n",
      "C:/Users/user/Desktop/Untitled Folder/Untitled Folder/images/musk_6.jpg\n",
      "C:/Users/user/Desktop/Untitled Folder/Untitled Folder/images/musk_7.jpg\n",
      "C:/Users/user/Desktop/Untitled Folder/Untitled Folder/images/musk_8.jpg\n",
      "C:/Users/user/Desktop/Untitled Folder/Untitled Folder/images/musk_9.jpg\n"
     ]
    }
   ],
   "source": [
    "import sys,os\n",
    "\n",
    "#createFileList will create a list of directries of all the images of the dataset\n",
    "# default format can be changed as needed\n",
    "\n",
    "def createFileList(myDir, format='.jpg'):\n",
    "    fileList = []\n",
    "    print(myDir)\n",
    "    for root, dirs, files in os.walk(myDir, topdown=False):\n",
    "        for name in files:\n",
    "            if name.endswith(format):\n",
    "                fullName = os.path.join(root, name)\n",
    "                fileList.append(fullName)\n",
    "    return fileList\n",
    "\n",
    "# load the opath where we have all the images\n",
    "myFileList = createFileList('C:/Users/user/Desktop/Untitled Folder/Untitled Folder/images/')\n",
    "\n",
    "#now for each and every directory image we are applying face and eyes detected\n",
    "for file in myFileList:\n",
    "    print(file)\n",
    "    img_file = cv2.imread(file)\n",
    "    img_file = cv2.resize(img_file, (200,200)) \n",
    "    #cv2.imshow(str(file),img_file)\n",
    "    \n",
    "    gray_img_file = cv2.cvtColor(img_file,cv2.COLOR_BGR2GRAY)\n",
    "    \n",
    "    faces = face_classifier.detectMultiScale(gray_img_file,1.3,5)\n",
    "    \"\"\"\n",
    "    if faces is ():\n",
    "        print(\"No Faces Found\")\n",
    "    \"\"\"  \n",
    "    for (x,y,w,h) in faces:\n",
    "        cv2.rectangle(img_file,(x,y),(x+w,y+h),(0,0,255),2)\n",
    "        #cv2.imshow('img_file',img_file)\n",
    "        #cv2.waitKey(0)\n",
    "        roi_gray = gray_img_file [y:y+h , x:x+h]\n",
    "        roi_color = img_file [y:y+h , x:x+h]\n",
    "        eyes = eye_classifier.detectMultiScale(roi_gray)\n",
    "        \n",
    "        for (ex,ey,ew,eh) in eyes:\n",
    "            cv2.rectangle(roi_color,(ex,ey),(ex+ew,ey+eh),(255,0,0),2)\n",
    "            cv2.imshow(str(file),img_file)\n",
    "            #cv2.waitKey(0)\n",
    "            \n",
    "cv2.waitKey(0)      #when key 0 is pressed all the windows will close     \n",
    "cv2.destroyAllWindows()       \n"
   ]
  },
  {
   "cell_type": "code",
   "execution_count": null,
   "id": "488e325f",
   "metadata": {},
   "outputs": [],
   "source": []
  },
  {
   "cell_type": "code",
   "execution_count": null,
   "id": "83f1b073",
   "metadata": {},
   "outputs": [],
   "source": []
  }
 ],
 "metadata": {
  "kernelspec": {
   "display_name": "Python 3",
   "language": "python",
   "name": "python3"
  },
  "language_info": {
   "codemirror_mode": {
    "name": "ipython",
    "version": 3
   },
   "file_extension": ".py",
   "mimetype": "text/x-python",
   "name": "python",
   "nbconvert_exporter": "python",
   "pygments_lexer": "ipython3",
   "version": "3.8.8"
  }
 },
 "nbformat": 4,
 "nbformat_minor": 5
}
